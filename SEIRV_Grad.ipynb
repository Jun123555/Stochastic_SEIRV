{
 "cells": [
  {
   "cell_type": "code",
   "execution_count": 1,
   "metadata": {},
   "outputs": [
    {
     "name": "stderr",
     "output_type": "stream",
     "text": [
      "┌ Warning: rmprocs: process 1 not removed\n",
      "└ @ Distributed C:\\buildbot\\worker\\package_win64\\build\\usr\\share\\julia\\stdlib\\v1.6\\Distributed\\src\\cluster.jl:1038\n"
     ]
    }
   ],
   "source": [
    "using Distributed,CairoMakie\n",
    "using BenchmarkTools\n",
    "rmprocs(workers())\n",
    "addprocs(restrict=true)\n",
    "@everywhere begin\n",
    "using DifferentialEquations,DiffEqSensitivity\n",
    "using ForwardDiff, Zygote\n",
    "end"
   ]
  },
  {
   "cell_type": "code",
   "execution_count": 2,
   "metadata": {},
   "outputs": [
    {
     "data": {
      "text/plain": [
       "9"
      ]
     },
     "metadata": {},
     "output_type": "display_data"
    }
   ],
   "source": [
    "nprocs()"
   ]
  },
  {
   "cell_type": "code",
   "execution_count": 3,
   "metadata": {},
   "outputs": [],
   "source": [
    "@everywhere begin\n",
    "    N = 10000000 #community size\n",
    "    E0 = 10 #init Exposed patients\n",
    "    beta = 0.00000004 #infection force\n",
    "    lp = 5.5 #latent period(days)\n",
    "    ip = 7 #indectious period(days)\n",
    "    ve = 0.9 #vaccine effectiveness\n",
    "    vr = 10000 #vaccination rate(per day)\n",
    "    idr = 365 #immunity duration for R(days)\n",
    "    idv = idr/2 #immunity duration for V(days) \n",
    "    σS = 1/100 #noise for S\n",
    "    σE = 1/100 #noise for E\n",
    "    σI = 1/100 #noise for I\n",
    "    σR = 1/100 #noise for R\n",
    "    σV = 1/20 #noise for V\n",
    "    function seirv2(du, u, p, t)\n",
    "        S,E,I,R,V = u\n",
    "        beta, lp, ip, ve, vr, σS, σE, σI, σR, σV = p\n",
    "        du[1] = -beta*S*I - vr + (1/idr)*R + (1/idv)*V\n",
    "        du[2] = beta*S*I - (1/lp)*E + (1-ve)*beta*V*I\n",
    "        du[3] = (1/lp)*E - (1/ip)*I\n",
    "        du[4] = (1/ip)*I - (1/idr)*R\n",
    "        du[5] = vr - (1-ve)*beta*V*I - (1/idv)*V\n",
    "    end\n",
    "    function seirv_noise(du, u, p, t)\n",
    "        S,E,I,R,V = u\n",
    "        beta, lp, ip, ve, vr, σS, σE, σI, σR, σV = p\n",
    "        du[1] = S*σS\n",
    "        du[2] = E*σE\n",
    "        du[3] = I*σI\n",
    "        du[4] = R*σR\n",
    "        du[5] = vr*σV\n",
    "    end\n",
    "end"
   ]
  },
  {
   "cell_type": "code",
   "execution_count": 4,
   "metadata": {},
   "outputs": [],
   "source": [
    "@everywhere seirv_prob_st_grad = SDEProblem(seirv2,seirv_noise,[N-E0, E0, 0, 0, 0],(0.0,10.0), [ beta, lp, ip, ve, vr, σS, σE, σI, σR, σV])"
   ]
  },
  {
   "cell_type": "code",
   "execution_count": 5,
   "metadata": {},
   "outputs": [],
   "source": [
    "@everywhere function jacobian_Matrix_Zy(x,t;seed = 0)\n",
    "    if seed == 0\n",
    "        _probFW = remake(seirv_prob_st_grad,tspan = (0.0,t))\n",
    "    else\n",
    "        _probFW = remake(seirv_prob_st_grad,tspan = (0.0,t),seed = seed)\n",
    "    end\n",
    "    function jacobian(x)\n",
    "        solve(_probFW,rtol=1e-6,atol=1e-6,saveat=0.25,u0=x[1:5],p=x[6:end],save_everystep=false)[end]\n",
    "    end\n",
    "    jacob, = Zygote.jacobian(jacobian,x)[1]\n",
    "end"
   ]
  },
  {
   "cell_type": "code",
   "execution_count": 6,
   "metadata": {},
   "outputs": [],
   "source": [
    "@everywhere function jacobain_series(x,tmin=0, tmax=10, saveat=1;seed=0)\n",
    "    jacobs=[]\n",
    "    function jacobian_Matrix(t;seed = 0)\n",
    "        if seed == 0\n",
    "            _probFW = remake(seirv_prob_st_grad,tspan = (0.0,t))\n",
    "        else\n",
    "            _probFW = remake(seirv_prob_st_grad,tspan = (0.0,t),seed = seed)\n",
    "        end\n",
    "        function jacobian(x)\n",
    "            solve(_probFW,rtol=1e-6,atol=1e-6,saveat=0.25,u0=x[1:5],p=x[6:end],save_everystep=false)[end]\n",
    "        end\n",
    "        jacob, = Zygote.jacobian(jacobian,x)[1]\n",
    "    end\n",
    "    jacobs = tmin:saveat:tmax\n",
    "    pmap(jacobian_Matrix,jacobs)\n",
    "end"
   ]
  },
  {
   "cell_type": "code",
   "execution_count": 16,
   "metadata": {},
   "outputs": [],
   "source": [
    "@everywhere function jacobain_series_FW(x,tmin=0, tmax=10, saveat=1;seed=0)\n",
    "    jacobs=[]\n",
    "    function jacobian_Matrix(t;seed = 0)\n",
    "        if seed == 0\n",
    "            _probFW = remake(seirv_prob_st_grad,tspan = (0.0,t))\n",
    "        else\n",
    "            _probFW = remake(seirv_prob_st_grad,tspan = (0.0,t),seed = seed)\n",
    "        end\n",
    "        function jacobian(x)\n",
    "            solve(_probFW,rtol=1e-6,atol=1e-6,saveat=0.25,u0=x[1:5],p=x[6:end],save_everystep=false,sensealg=ForwardDiffSensitivity())[end]\n",
    "        end\n",
    "        jacob = ForwardDiff.jacobian(jacobian,x)\n",
    "    end\n",
    "    jacobs = tmin:saveat:tmax\n",
    "    pmap(jacobian_Matrix,jacobs)\n",
    "end"
   ]
  },
  {
   "cell_type": "code",
   "execution_count": 8,
   "metadata": {},
   "outputs": [
    {
     "data": {
      "text/plain": [
       "BenchmarkTools.Trial: 3 samples with 1 evaluation.\n",
       " Range \u001b[90m(\u001b[39m\u001b[36m\u001b[1mmin\u001b[22m\u001b[39m … \u001b[35mmax\u001b[39m\u001b[90m):  \u001b[39m\u001b[36m\u001b[1m1.408 s\u001b[22m\u001b[39m … \u001b[35m   2.346 s\u001b[39m  \u001b[90m┊\u001b[39m GC \u001b[90m(\u001b[39mmin … max\u001b[90m): \u001b[39m0.00% … 0.00%\n",
       " Time  \u001b[90m(\u001b[39m\u001b[34m\u001b[1mmedian\u001b[22m\u001b[39m\u001b[90m):     \u001b[39m\u001b[34m\u001b[1m2.345 s               \u001b[22m\u001b[39m\u001b[90m┊\u001b[39m GC \u001b[90m(\u001b[39mmedian\u001b[90m):    \u001b[39m0.00%\n",
       " Time  \u001b[90m(\u001b[39m\u001b[32m\u001b[1mmean\u001b[22m\u001b[39m ± \u001b[32mσ\u001b[39m\u001b[90m):   \u001b[39m\u001b[32m\u001b[1m2.033 s\u001b[22m\u001b[39m ± \u001b[32m541.621 ms\u001b[39m  \u001b[90m┊\u001b[39m GC \u001b[90m(\u001b[39mmean ± σ\u001b[90m):  \u001b[39m0.00% ± 0.00%\n",
       "\n",
       "  \u001b[34m▁\u001b[39m\u001b[39m \u001b[39m \u001b[39m \u001b[39m \u001b[39m \u001b[39m \u001b[39m \u001b[39m \u001b[39m \u001b[39m \u001b[39m \u001b[39m \u001b[39m \u001b[39m \u001b[39m \u001b[39m \u001b[39m \u001b[39m \u001b[39m \u001b[39m \u001b[39m \u001b[39m \u001b[39m \u001b[39m \u001b[39m \u001b[39m \u001b[39m \u001b[39m \u001b[39m \u001b[39m \u001b[39m \u001b[39m \u001b[39m \u001b[39m \u001b[39m \u001b[39m \u001b[39m \u001b[39m \u001b[32m \u001b[39m\u001b[39m \u001b[39m \u001b[39m \u001b[39m \u001b[39m \u001b[39m \u001b[39m \u001b[39m \u001b[39m \u001b[39m \u001b[39m \u001b[39m \u001b[39m \u001b[39m \u001b[39m \u001b[39m \u001b[39m \u001b[39m█\u001b[39m \u001b[39m \n",
       "  \u001b[34m█\u001b[39m\u001b[39m▁\u001b[39m▁\u001b[39m▁\u001b[39m▁\u001b[39m▁\u001b[39m▁\u001b[39m▁\u001b[39m▁\u001b[39m▁\u001b[39m▁\u001b[39m▁\u001b[39m▁\u001b[39m▁\u001b[39m▁\u001b[39m▁\u001b[39m▁\u001b[39m▁\u001b[39m▁\u001b[39m▁\u001b[39m▁\u001b[39m▁\u001b[39m▁\u001b[39m▁\u001b[39m▁\u001b[39m▁\u001b[39m▁\u001b[39m▁\u001b[39m▁\u001b[39m▁\u001b[39m▁\u001b[39m▁\u001b[39m▁\u001b[39m▁\u001b[39m▁\u001b[39m▁\u001b[39m▁\u001b[39m▁\u001b[39m▁\u001b[32m▁\u001b[39m\u001b[39m▁\u001b[39m▁\u001b[39m▁\u001b[39m▁\u001b[39m▁\u001b[39m▁\u001b[39m▁\u001b[39m▁\u001b[39m▁\u001b[39m▁\u001b[39m▁\u001b[39m▁\u001b[39m▁\u001b[39m▁\u001b[39m▁\u001b[39m▁\u001b[39m▁\u001b[39m█\u001b[39m \u001b[39m▁\n",
       "  1.41 s\u001b[90m         Histogram: frequency by time\u001b[39m         2.35 s \u001b[0m\u001b[1m<\u001b[22m\n",
       "\n",
       " Memory estimate\u001b[90m: \u001b[39m\u001b[33m150.11 KiB\u001b[39m, allocs estimate\u001b[90m: \u001b[39m\u001b[33m2603\u001b[39m."
      ]
     },
     "metadata": {},
     "output_type": "display_data"
    }
   ],
   "source": [
    "@benchmark jacobain_series([N-E0, E0, 0, 0, 0,beta, lp, ip, ve, vr, σS, σE, σI, σR, σV],0,30;seed=1)"
   ]
  },
  {
   "cell_type": "code",
   "execution_count": 18,
   "metadata": {},
   "outputs": [
    {
     "data": {
      "text/plain": [
       "BenchmarkTools.Trial: 24 samples with 1 evaluation.\n",
       " Range \u001b[90m(\u001b[39m\u001b[36m\u001b[1mmin\u001b[22m\u001b[39m … \u001b[35mmax\u001b[39m\u001b[90m):  \u001b[39m\u001b[36m\u001b[1m179.846 ms\u001b[22m\u001b[39m … \u001b[35m236.397 ms\u001b[39m  \u001b[90m┊\u001b[39m GC \u001b[90m(\u001b[39mmin … max\u001b[90m): \u001b[39m0.00% … 0.00%\n",
       " Time  \u001b[90m(\u001b[39m\u001b[34m\u001b[1mmedian\u001b[22m\u001b[39m\u001b[90m):     \u001b[39m\u001b[34m\u001b[1m212.609 ms               \u001b[22m\u001b[39m\u001b[90m┊\u001b[39m GC \u001b[90m(\u001b[39mmedian\u001b[90m):    \u001b[39m0.00%\n",
       " Time  \u001b[90m(\u001b[39m\u001b[32m\u001b[1mmean\u001b[22m\u001b[39m ± \u001b[32mσ\u001b[39m\u001b[90m):   \u001b[39m\u001b[32m\u001b[1m212.154 ms\u001b[22m\u001b[39m ± \u001b[32m 13.573 ms\u001b[39m  \u001b[90m┊\u001b[39m GC \u001b[90m(\u001b[39mmean ± σ\u001b[90m):  \u001b[39m0.00% ± 0.00%\n",
       "\n",
       "  \u001b[39m▁\u001b[39m \u001b[39m \u001b[39m \u001b[39m \u001b[39m \u001b[39m \u001b[39m \u001b[39m \u001b[39m \u001b[39m \u001b[39m \u001b[39m \u001b[39m \u001b[39m \u001b[39m▁\u001b[39m \u001b[39m▁\u001b[39m▁\u001b[39m \u001b[39m█\u001b[39m \u001b[39m \u001b[39m \u001b[39m \u001b[39m \u001b[39m \u001b[39m▁\u001b[39m \u001b[39m \u001b[39m \u001b[39m█\u001b[39m▁\u001b[39m█\u001b[34m \u001b[39m\u001b[32m \u001b[39m\u001b[39m█\u001b[39m \u001b[39m \u001b[39m▁\u001b[39m▁\u001b[39m▁\u001b[39m▁\u001b[39m \u001b[39m \u001b[39m▁\u001b[39m \u001b[39m▁\u001b[39m \u001b[39m \u001b[39m▁\u001b[39m \u001b[39m▁\u001b[39m \u001b[39m \u001b[39m \u001b[39m \u001b[39m \u001b[39m▁\u001b[39m \u001b[39m▁\u001b[39m \u001b[39m \n",
       "  \u001b[39m█\u001b[39m▁\u001b[39m▁\u001b[39m▁\u001b[39m▁\u001b[39m▁\u001b[39m▁\u001b[39m▁\u001b[39m▁\u001b[39m▁\u001b[39m▁\u001b[39m▁\u001b[39m▁\u001b[39m▁\u001b[39m▁\u001b[39m█\u001b[39m▁\u001b[39m█\u001b[39m█\u001b[39m▁\u001b[39m█\u001b[39m▁\u001b[39m▁\u001b[39m▁\u001b[39m▁\u001b[39m▁\u001b[39m▁\u001b[39m█\u001b[39m▁\u001b[39m▁\u001b[39m▁\u001b[39m█\u001b[39m█\u001b[39m█\u001b[34m▁\u001b[39m\u001b[32m▁\u001b[39m\u001b[39m█\u001b[39m▁\u001b[39m▁\u001b[39m█\u001b[39m█\u001b[39m█\u001b[39m█\u001b[39m▁\u001b[39m▁\u001b[39m█\u001b[39m▁\u001b[39m█\u001b[39m▁\u001b[39m▁\u001b[39m█\u001b[39m▁\u001b[39m█\u001b[39m▁\u001b[39m▁\u001b[39m▁\u001b[39m▁\u001b[39m▁\u001b[39m█\u001b[39m▁\u001b[39m█\u001b[39m \u001b[39m▁\n",
       "  180 ms\u001b[90m           Histogram: frequency by time\u001b[39m          236 ms \u001b[0m\u001b[1m<\u001b[22m\n",
       "\n",
       " Memory estimate\u001b[90m: \u001b[39m\u001b[33m143.92 KiB\u001b[39m, allocs estimate\u001b[90m: \u001b[39m\u001b[33m2486\u001b[39m."
      ]
     },
     "metadata": {},
     "output_type": "display_data"
    }
   ],
   "source": [
    "@benchmark jacobain_series_FW([N-E0, E0, 0, 0, 0,beta, lp, ip, ve, vr, σS, σE, σI, σR, σV],1,30;seed=1)"
   ]
  },
  {
   "cell_type": "code",
   "execution_count": 7,
   "metadata": {},
   "outputs": [],
   "source": [
    "using CSV,DataFrames"
   ]
  },
  {
   "cell_type": "code",
   "execution_count": 13,
   "metadata": {},
   "outputs": [],
   "source": [
    "jacobs = jacobain_series([N-E0, E0, 0, 0, 0,beta, lp, ip, ve, vr, σS, σE, σI, σR, σV],0,30;seed=1)\n",
    "nothing"
   ]
  },
  {
   "cell_type": "code",
   "execution_count": 19,
   "metadata": {},
   "outputs": [],
   "source": [
    "dfh = DataFrame(S=[],E=[],I=[],R=[],V=[])\n",
    "CSV.write(\"jacabians.csv\", dfh,bom=true)\n",
    "for i in 1:length(jacobs)\n",
    "    df = DataFrame(S = jacobs[i][1,:],E = jacobs[i][2,:],I = jacobs[i][3,:],R = jacobs[i][4,:],V = jacobs[i][5,:])\n",
    "    CSV.write(\"jacabians.csv\", df,append=true,bom=true)\n",
    "end"
   ]
  },
  {
   "cell_type": "code",
   "execution_count": 20,
   "metadata": {},
   "outputs": [],
   "source": [
    "for i in 1:100\n",
    "    jacobs = jacobain_series([N-E0, E0, 0, 0, 0,beta, lp, ip, ve, vr, σS, σE, σI, σR, σV],0,30)\n",
    "    for i in 1:length(jacobs)\n",
    "        df = DataFrame(S = jacobs[i][1,:],E = jacobs[i][2,:],I = jacobs[i][3,:],R = jacobs[i][4,:],V = jacobs[i][5,:])\n",
    "        CSV.write(\"jacabians.csv\", df,append=true,bom=true)\n",
    "    end\n",
    "end"
   ]
  },
  {
   "cell_type": "code",
   "execution_count": null,
   "metadata": {},
   "outputs": [],
   "source": [
    "grad_S=[]\n",
    "grad_E=[]\n",
    "grad_I=[]\n",
    "grad_R=[]\n",
    "grad_V=[]\n",
    "for i in 1:length(jacobs)\n",
    "    push!(grad_S,jacobs[i][1,:])\n",
    "    push!(grad_E,jacobs[i][2,:])\n",
    "    push!(grad_I,jacobs[i][3,:])\n",
    "    push!(grad_R,jacobs[i][4,:])\n",
    "    push!(grad_V,jacobs[i][5,:])\n",
    "end"
   ]
  },
  {
   "cell_type": "code",
   "execution_count": null,
   "metadata": {},
   "outputs": [],
   "source": [
    "using Calculus\n"
   ]
  },
  {
   "cell_type": "code",
   "execution_count": null,
   "metadata": {},
   "outputs": [],
   "source": [
    "function grad_Matrix_Cal(x,t)\n",
    "    grad = [([]),([]),([]),([]),([])]\n",
    "    _probFW = remake(seirv_prob_st_grad,tspan = (0.0,t))\n",
    "    function grad_S(x)\n",
    "        solve(_probFW,rtol=1e-6,atol=1e-6,saveat=0.25,u0=x[1:5],p=x[6:end],save_everystep=false)[end][1]\n",
    "    end\n",
    "    function grad_E(x)\n",
    "        solve(_probFW,rtol=1e-6,atol=1e-6,saveat=0.25,u0=x[1:5],p=x[6:end],save_everystep=false)[end][2]\n",
    "    end\n",
    "    function grad_I(x)\n",
    "        solve(_probFW,rtol=1e-6,atol=1e-6,saveat=0.25,u0=x[1:5],p=x[6:end],save_everystep=false)[end][3]\n",
    "    end\n",
    "    function grad_R(x)\n",
    "        solve(_probFW,rtol=1e-6,atol=1e-6,saveat=0.25,u0=x[1:5],p=x[6:end],save_everystep=false)[end][4]\n",
    "    end\n",
    "    function grad_V(x)\n",
    "        solve(_probFW,rtol=1e-6,atol=1e-6,saveat=0.25,u0=x[1:5],p=x[6:end],save_everystep=false)[end][5]\n",
    "    end\n",
    "    grad[1], = Zygote.gradient(grad_S,x)\n",
    "    grad[2], = Zygote.gradient(grad_E,x)\n",
    "    grad[3], = Zygote.gradient(grad_I,x)\n",
    "    grad[4], = Zygote.gradient(grad_R,x)\n",
    "    grad[5], = Zygote.gradient(grad_V,x)\n",
    "    grad\n",
    "end"
   ]
  }
 ],
 "metadata": {
  "kernelspec": {
   "display_name": "Julia 1.6.6",
   "language": "julia",
   "name": "julia-1.6"
  },
  "language_info": {
   "file_extension": ".jl",
   "mimetype": "application/julia",
   "name": "julia",
   "version": "1.6.6"
  }
 },
 "nbformat": 4,
 "nbformat_minor": 4
}
